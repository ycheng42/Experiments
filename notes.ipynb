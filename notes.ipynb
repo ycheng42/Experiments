{
 "cells": [
  {
   "cell_type": "code",
   "execution_count": 5,
   "metadata": {
    "collapsed": false
   },
   "outputs": [
    {
     "name": "stdout",
     "output_type": "stream",
     "text": [
      "1\n",
      "4\n",
      "9\n",
      "16\n",
      "25\n",
      "36\n"
     ]
    }
   ],
   "source": [
    "x = [1,2,3,4,5,6]\n",
    "for num in x:\n",
    "    y = num**2\n",
    "    print y"
   ]
  },
  {
   "cell_type": "code",
   "execution_count": 7,
   "metadata": {
    "collapsed": false
   },
   "outputs": [
    {
     "name": "stdout",
     "output_type": "stream",
     "text": [
      "20160196\n"
     ]
    }
   ],
   "source": [
    "import time\n",
    "## dd/mm/yyyy format\n",
    "date = (int(time.strftime(\"%Y%m%d\")) - 10)\n",
    "print date"
   ]
  },
  {
   "cell_type": "markdown",
   "metadata": {},
   "source": [
    "## Wikipedia pageviews"
   ]
  },
  {
   "cell_type": "code",
   "execution_count": 8,
   "metadata": {
    "collapsed": false
   },
   "outputs": [],
   "source": [
    "articles = \"Tim_Duncan\""
   ]
  },
  {
   "cell_type": "code",
   "execution_count": 9,
   "metadata": {
    "collapsed": false
   },
   "outputs": [],
   "source": [
    "api_url = 'https://wikimedia.org/api/rest_v1/metrics/pageviews/' + \\\n",
    "'per-article/en.wikipedia/' + \\\n",
    "'all-access/all-agents/'+articles+'/daily/' + \\\n",
    "'2015100100/2015103100'"
   ]
  },
  {
   "cell_type": "code",
   "execution_count": 10,
   "metadata": {
    "collapsed": false
   },
   "outputs": [
    {
     "name": "stdout",
     "output_type": "stream",
     "text": [
      "https://wikimedia.org/api/rest_v1/metrics/pageviews/per-article/en.wikipedia/all-access/all-agents/Tim_Duncan/daily/2015100100/2015103100\n"
     ]
    }
   ],
   "source": [
    "print api_url"
   ]
  },
  {
   "cell_type": "code",
   "execution_count": 13,
   "metadata": {
    "collapsed": false,
    "scrolled": true
   },
   "outputs": [
    {
     "data": {
      "text/plain": [
       "{u'items': [{u'access': u'all-access',\n",
       "   u'agent': u'all-agents',\n",
       "   u'article': u'Tim_Duncan',\n",
       "   u'granularity': u'daily',\n",
       "   u'project': u'en.wikipedia',\n",
       "   u'timestamp': u'2015100100',\n",
       "   u'views': 2520},\n",
       "  {u'access': u'all-access',\n",
       "   u'agent': u'all-agents',\n",
       "   u'article': u'Tim_Duncan',\n",
       "   u'granularity': u'daily',\n",
       "   u'project': u'en.wikipedia',\n",
       "   u'timestamp': u'2015100200',\n",
       "   u'views': 2042},\n",
       "  {u'access': u'all-access',\n",
       "   u'agent': u'all-agents',\n",
       "   u'article': u'Tim_Duncan',\n",
       "   u'granularity': u'daily',\n",
       "   u'project': u'en.wikipedia',\n",
       "   u'timestamp': u'2015100300',\n",
       "   u'views': 2897},\n",
       "  {u'access': u'all-access',\n",
       "   u'agent': u'all-agents',\n",
       "   u'article': u'Tim_Duncan',\n",
       "   u'granularity': u'daily',\n",
       "   u'project': u'en.wikipedia',\n",
       "   u'timestamp': u'2015100400',\n",
       "   u'views': 1851},\n",
       "  {u'access': u'all-access',\n",
       "   u'agent': u'all-agents',\n",
       "   u'article': u'Tim_Duncan',\n",
       "   u'granularity': u'daily',\n",
       "   u'project': u'en.wikipedia',\n",
       "   u'timestamp': u'2015100500',\n",
       "   u'views': 1812},\n",
       "  {u'access': u'all-access',\n",
       "   u'agent': u'all-agents',\n",
       "   u'article': u'Tim_Duncan',\n",
       "   u'granularity': u'daily',\n",
       "   u'project': u'en.wikipedia',\n",
       "   u'timestamp': u'2015100600',\n",
       "   u'views': 1947},\n",
       "  {u'access': u'all-access',\n",
       "   u'agent': u'all-agents',\n",
       "   u'article': u'Tim_Duncan',\n",
       "   u'granularity': u'daily',\n",
       "   u'project': u'en.wikipedia',\n",
       "   u'timestamp': u'2015100700',\n",
       "   u'views': 2510},\n",
       "  {u'access': u'all-access',\n",
       "   u'agent': u'all-agents',\n",
       "   u'article': u'Tim_Duncan',\n",
       "   u'granularity': u'daily',\n",
       "   u'project': u'en.wikipedia',\n",
       "   u'timestamp': u'2015100800',\n",
       "   u'views': 2252},\n",
       "  {u'access': u'all-access',\n",
       "   u'agent': u'all-agents',\n",
       "   u'article': u'Tim_Duncan',\n",
       "   u'granularity': u'daily',\n",
       "   u'project': u'en.wikipedia',\n",
       "   u'timestamp': u'2015100900',\n",
       "   u'views': 2040},\n",
       "  {u'access': u'all-access',\n",
       "   u'agent': u'all-agents',\n",
       "   u'article': u'Tim_Duncan',\n",
       "   u'granularity': u'daily',\n",
       "   u'project': u'en.wikipedia',\n",
       "   u'timestamp': u'2015101000',\n",
       "   u'views': 2006},\n",
       "  {u'access': u'all-access',\n",
       "   u'agent': u'all-agents',\n",
       "   u'article': u'Tim_Duncan',\n",
       "   u'granularity': u'daily',\n",
       "   u'project': u'en.wikipedia',\n",
       "   u'timestamp': u'2015101100',\n",
       "   u'views': 1793},\n",
       "  {u'access': u'all-access',\n",
       "   u'agent': u'all-agents',\n",
       "   u'article': u'Tim_Duncan',\n",
       "   u'granularity': u'daily',\n",
       "   u'project': u'en.wikipedia',\n",
       "   u'timestamp': u'2015101200',\n",
       "   u'views': 1739},\n",
       "  {u'access': u'all-access',\n",
       "   u'agent': u'all-agents',\n",
       "   u'article': u'Tim_Duncan',\n",
       "   u'granularity': u'daily',\n",
       "   u'project': u'en.wikipedia',\n",
       "   u'timestamp': u'2015101300',\n",
       "   u'views': 2249},\n",
       "  {u'access': u'all-access',\n",
       "   u'agent': u'all-agents',\n",
       "   u'article': u'Tim_Duncan',\n",
       "   u'granularity': u'daily',\n",
       "   u'project': u'en.wikipedia',\n",
       "   u'timestamp': u'2015101400',\n",
       "   u'views': 2354},\n",
       "  {u'access': u'all-access',\n",
       "   u'agent': u'all-agents',\n",
       "   u'article': u'Tim_Duncan',\n",
       "   u'granularity': u'daily',\n",
       "   u'project': u'en.wikipedia',\n",
       "   u'timestamp': u'2015101500',\n",
       "   u'views': 2589},\n",
       "  {u'access': u'all-access',\n",
       "   u'agent': u'all-agents',\n",
       "   u'article': u'Tim_Duncan',\n",
       "   u'granularity': u'daily',\n",
       "   u'project': u'en.wikipedia',\n",
       "   u'timestamp': u'2015101600',\n",
       "   u'views': 2105},\n",
       "  {u'access': u'all-access',\n",
       "   u'agent': u'all-agents',\n",
       "   u'article': u'Tim_Duncan',\n",
       "   u'granularity': u'daily',\n",
       "   u'project': u'en.wikipedia',\n",
       "   u'timestamp': u'2015101700',\n",
       "   u'views': 1930},\n",
       "  {u'access': u'all-access',\n",
       "   u'agent': u'all-agents',\n",
       "   u'article': u'Tim_Duncan',\n",
       "   u'granularity': u'daily',\n",
       "   u'project': u'en.wikipedia',\n",
       "   u'timestamp': u'2015101800',\n",
       "   u'views': 1945},\n",
       "  {u'access': u'all-access',\n",
       "   u'agent': u'all-agents',\n",
       "   u'article': u'Tim_Duncan',\n",
       "   u'granularity': u'daily',\n",
       "   u'project': u'en.wikipedia',\n",
       "   u'timestamp': u'2015101900',\n",
       "   u'views': 2048},\n",
       "  {u'access': u'all-access',\n",
       "   u'agent': u'all-agents',\n",
       "   u'article': u'Tim_Duncan',\n",
       "   u'granularity': u'daily',\n",
       "   u'project': u'en.wikipedia',\n",
       "   u'timestamp': u'2015102000',\n",
       "   u'views': 2122},\n",
       "  {u'access': u'all-access',\n",
       "   u'agent': u'all-agents',\n",
       "   u'article': u'Tim_Duncan',\n",
       "   u'granularity': u'daily',\n",
       "   u'project': u'en.wikipedia',\n",
       "   u'timestamp': u'2015102100',\n",
       "   u'views': 2418},\n",
       "  {u'access': u'all-access',\n",
       "   u'agent': u'all-agents',\n",
       "   u'article': u'Tim_Duncan',\n",
       "   u'granularity': u'daily',\n",
       "   u'project': u'en.wikipedia',\n",
       "   u'timestamp': u'2015102200',\n",
       "   u'views': 3346},\n",
       "  {u'access': u'all-access',\n",
       "   u'agent': u'all-agents',\n",
       "   u'article': u'Tim_Duncan',\n",
       "   u'granularity': u'daily',\n",
       "   u'project': u'en.wikipedia',\n",
       "   u'timestamp': u'2015102300',\n",
       "   u'views': 3242},\n",
       "  {u'access': u'all-access',\n",
       "   u'agent': u'all-agents',\n",
       "   u'article': u'Tim_Duncan',\n",
       "   u'granularity': u'daily',\n",
       "   u'project': u'en.wikipedia',\n",
       "   u'timestamp': u'2015102400',\n",
       "   u'views': 2911},\n",
       "  {u'access': u'all-access',\n",
       "   u'agent': u'all-agents',\n",
       "   u'article': u'Tim_Duncan',\n",
       "   u'granularity': u'daily',\n",
       "   u'project': u'en.wikipedia',\n",
       "   u'timestamp': u'2015102500',\n",
       "   u'views': 2403},\n",
       "  {u'access': u'all-access',\n",
       "   u'agent': u'all-agents',\n",
       "   u'article': u'Tim_Duncan',\n",
       "   u'granularity': u'daily',\n",
       "   u'project': u'en.wikipedia',\n",
       "   u'timestamp': u'2015102600',\n",
       "   u'views': 2521},\n",
       "  {u'access': u'all-access',\n",
       "   u'agent': u'all-agents',\n",
       "   u'article': u'Tim_Duncan',\n",
       "   u'granularity': u'daily',\n",
       "   u'project': u'en.wikipedia',\n",
       "   u'timestamp': u'2015102700',\n",
       "   u'views': 3758},\n",
       "  {u'access': u'all-access',\n",
       "   u'agent': u'all-agents',\n",
       "   u'article': u'Tim_Duncan',\n",
       "   u'granularity': u'daily',\n",
       "   u'project': u'en.wikipedia',\n",
       "   u'timestamp': u'2015102800',\n",
       "   u'views': 5256},\n",
       "  {u'access': u'all-access',\n",
       "   u'agent': u'all-agents',\n",
       "   u'article': u'Tim_Duncan',\n",
       "   u'granularity': u'daily',\n",
       "   u'project': u'en.wikipedia',\n",
       "   u'timestamp': u'2015102900',\n",
       "   u'views': 11035},\n",
       "  {u'access': u'all-access',\n",
       "   u'agent': u'all-agents',\n",
       "   u'article': u'Tim_Duncan',\n",
       "   u'granularity': u'daily',\n",
       "   u'project': u'en.wikipedia',\n",
       "   u'timestamp': u'2015103000',\n",
       "   u'views': 3733},\n",
       "  {u'access': u'all-access',\n",
       "   u'agent': u'all-agents',\n",
       "   u'article': u'Tim_Duncan',\n",
       "   u'granularity': u'daily',\n",
       "   u'project': u'en.wikipedia',\n",
       "   u'timestamp': u'2015103100',\n",
       "   u'views': 3738}]}"
      ]
     },
     "execution_count": 13,
     "metadata": {},
     "output_type": "execute_result"
    }
   ],
   "source": [
    "import requests\n",
    "r = requests.get(api_url)\n",
    "r.json()"
   ]
  },
  {
   "cell_type": "code",
   "execution_count": null,
   "metadata": {
    "collapsed": true
   },
   "outputs": [],
   "source": []
  },
  {
   "cell_type": "code",
   "execution_count": null,
   "metadata": {
    "collapsed": true
   },
   "outputs": [],
   "source": []
  }
 ],
 "metadata": {
  "kernelspec": {
   "display_name": "Python 2",
   "language": "python",
   "name": "python2"
  },
  "language_info": {
   "codemirror_mode": {
    "name": "ipython",
    "version": 2
   },
   "file_extension": ".py",
   "mimetype": "text/x-python",
   "name": "python",
   "nbconvert_exporter": "python",
   "pygments_lexer": "ipython2",
   "version": "2.7.11"
  }
 },
 "nbformat": 4,
 "nbformat_minor": 0
}
