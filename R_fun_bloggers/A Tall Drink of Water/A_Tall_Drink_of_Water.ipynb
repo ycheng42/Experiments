{
 "cells": [
  {
   "cell_type": "code",
   "execution_count": 8,
   "metadata": {
    "collapsed": false
   },
   "outputs": [],
   "source": [
    "library(RSocrata)"
   ]
  },
  {
   "cell_type": "code",
   "execution_count": 4,
   "metadata": {
    "collapsed": true
   },
   "outputs": [],
   "source": [
    "water <- read.socrata(\"https://opendata.utah.gov/resource/j4aa-ce7s.csv\")"
   ]
  },
  {
   "cell_type": "code",
   "execution_count": 7,
   "metadata": {
    "collapsed": false
   },
   "outputs": [
    {
     "data": {
      "text/html": [
       "<table>\n",
       "<thead><tr><th></th><th scope=col>YEAR</th><th scope=col>MONTH</th><th scope=col>TRACT</th><th scope=col>TYPE</th><th scope=col>CONSUMPTION</th><th scope=col>CONNECTIONS</th></tr></thead>\n",
       "<tbody>\n",
       "\t<tr><th scope=row>1</th><td>2000</td><td>1</td><td>100100</td><td>Apartment</td><td>91</td><td>4</td></tr>\n",
       "\t<tr><th scope=row>2</th><td>2000</td><td>1</td><td>100100</td><td>Business</td><td>1153</td><td>44</td></tr>\n",
       "\t<tr><th scope=row>3</th><td>2000</td><td>1</td><td>100100</td><td>Duplex</td><td>20</td><td>1</td></tr>\n",
       "\t<tr><th scope=row>4</th><td>2000</td><td>1</td><td>100100</td><td>Hotel or Motel</td><td>280</td><td>2</td></tr>\n",
       "\t<tr><th scope=row>5</th><td>2000</td><td>1</td><td>100100</td><td>Industry</td><td>108038</td><td>20</td></tr>\n",
       "\t<tr><th scope=row>6</th><td>2000</td><td>1</td><td>100100</td><td>Miscellaneous</td><td>0</td><td>5</td></tr>\n",
       "</tbody>\n",
       "</table>\n"
      ],
      "text/latex": [
       "\\begin{tabular}{r|llllll}\n",
       "  & YEAR & MONTH & TRACT & TYPE & CONSUMPTION & CONNECTIONS\\\\\n",
       "\\hline\n",
       "\t1 & 2000 & 1 & 100100 & Apartment & 91 & 4\\\\\n",
       "\t2 & 2000 & 1 & 100100 & Business & 1153 & 44\\\\\n",
       "\t3 & 2000 & 1 & 100100 & Duplex & 20 & 1\\\\\n",
       "\t4 & 2000 & 1 & 100100 & Hotel or Motel & 280 & 2\\\\\n",
       "\t5 & 2000 & 1 & 100100 & Industry & 108038 & 20\\\\\n",
       "\t6 & 2000 & 1 & 100100 & Miscellaneous & 0 & 5\\\\\n",
       "\\end{tabular}\n"
      ],
      "text/plain": [
       "  YEAR MONTH  TRACT           TYPE CONSUMPTION CONNECTIONS\n",
       "1 2000     1 100100      Apartment          91           4\n",
       "2 2000     1 100100       Business        1153          44\n",
       "3 2000     1 100100         Duplex          20           1\n",
       "4 2000     1 100100 Hotel or Motel         280           2\n",
       "5 2000     1 100100       Industry      108038          20\n",
       "6 2000     1 100100  Miscellaneous           0           5"
      ]
     },
     "execution_count": 7,
     "metadata": {},
     "output_type": "execute_result"
    }
   ],
   "source": [
    "head(water)"
   ]
  },
  {
   "cell_type": "code",
   "execution_count": null,
   "metadata": {
    "collapsed": true
   },
   "outputs": [],
   "source": []
  },
  {
   "cell_type": "markdown",
   "metadata": {},
   "source": [
    "## Reference\n",
    "- R-bloggers [http://www.r-bloggers.com/a-tall-drink-of-water/]\n",
    "- RSocrata - A tool for downloading and uploading Socrata datasets [https://cran.r-project.org/web/packages/RSocrata/index.html]"
   ]
  },
  {
   "cell_type": "code",
   "execution_count": null,
   "metadata": {
    "collapsed": true
   },
   "outputs": [],
   "source": []
  }
 ],
 "metadata": {
  "kernelspec": {
   "display_name": "R",
   "language": "R",
   "name": "ir"
  },
  "language_info": {
   "codemirror_mode": "r",
   "file_extension": ".r",
   "mimetype": "text/x-r-source",
   "name": "R",
   "pygments_lexer": "r",
   "version": "3.2.2"
  }
 },
 "nbformat": 4,
 "nbformat_minor": 0
}
