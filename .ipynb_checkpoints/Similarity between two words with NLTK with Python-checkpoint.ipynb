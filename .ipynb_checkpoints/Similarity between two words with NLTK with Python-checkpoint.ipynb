{
 "cells": [
  {
   "cell_type": "markdown",
   "metadata": {},
   "source": [
    "# Example 1"
   ]
  },
  {
   "cell_type": "code",
   "execution_count": 1,
   "metadata": {
    "collapsed": true
   },
   "outputs": [],
   "source": [
    "from nltk.corpus import wordnet"
   ]
  },
  {
   "cell_type": "markdown",
   "metadata": {},
   "source": [
    "# Exmaple 2"
   ]
  },
  {
   "cell_type": "code",
   "execution_count": 5,
   "metadata": {
    "collapsed": false
   },
   "outputs": [
    {
     "name": "stdout",
     "output_type": "stream",
     "text": [
      "0.5\n"
     ]
    }
   ],
   "source": [
    "lst1 = ['compare','require']\n",
    "lst2 = ['choose', 'copy', 'define', 'duplicate', 'find', 'how', 'identify', 'label', 'list', \n",
    "        'listen', 'locate', 'match', 'memorise', 'name', 'observe', 'omit', 'quote', 'read',\n",
    "        'recall', 'recite', 'recognise', 'record', 'relate', 'remember', 'repeat', 'reproduce', \n",
    "        'retell', 'select', 'show', 'spell', 'state', 'tell', 'trace', 'write']\n",
    "lst = []\n",
    "\n",
    "for word1 in lst1:\n",
    "    for word2 in lst2:\n",
    "        wordFromList1 = wordnet.synsets(word1)\n",
    "        wordFromList2 = wordnet.synsets(word2)\n",
    "        if wordFromList1 and wordFromList2: #Thanks to @alexis' note\n",
    "            s = wordFromList1[0].wup_similarity(wordFromList2[0])\n",
    "            lst.append(s)\n",
    "\n",
    "print(max(lst))"
   ]
  },
  {
   "cell_type": "code",
   "execution_count": 10,
   "metadata": {
    "collapsed": false
   },
   "outputs": [
    {
     "data": {
      "text/plain": [
       "[Synset('necessitate.v.01'),\n",
       " Synset('ask.v.04'),\n",
       " Synset('command.v.02'),\n",
       " Synset('want.v.02')]"
      ]
     },
     "execution_count": 10,
     "metadata": {},
     "output_type": "execute_result"
    }
   ],
   "source": [
    "wordFromList1"
   ]
  },
  {
   "cell_type": "code",
   "execution_count": 7,
   "metadata": {
    "collapsed": false
   },
   "outputs": [
    {
     "data": {
      "text/plain": [
       "[Synset('write.v.01'),\n",
       " Synset('write.v.02'),\n",
       " Synset('publish.v.03'),\n",
       " Synset('write.v.04'),\n",
       " Synset('write.v.05'),\n",
       " Synset('compose.v.02'),\n",
       " Synset('write.v.07'),\n",
       " Synset('write.v.08'),\n",
       " Synset('spell.v.03'),\n",
       " Synset('write.v.10')]"
      ]
     },
     "execution_count": 7,
     "metadata": {},
     "output_type": "execute_result"
    }
   ],
   "source": [
    "wordFromList2"
   ]
  },
  {
   "cell_type": "markdown",
   "metadata": {},
   "source": [
    "## Reference\n",
    " - Semantic Similarity (realting to meanig in langage or logic)\n",
    " - Wikipedia - Semantic Similarity [https://en.wikipedia.org/wiki/Semantic_similarity]\n",
    " - Wordnet with NLTK [https://pythonprogramming.net/wordnet-nltk-tutorial/]"
   ]
  }
 ],
 "metadata": {
  "kernelspec": {
   "display_name": "Python 2",
   "language": "python",
   "name": "python2"
  },
  "language_info": {
   "codemirror_mode": {
    "name": "ipython",
    "version": 2
   },
   "file_extension": ".py",
   "mimetype": "text/x-python",
   "name": "python",
   "nbconvert_exporter": "python",
   "pygments_lexer": "ipython2",
   "version": "2.7.11"
  }
 },
 "nbformat": 4,
 "nbformat_minor": 0
}
